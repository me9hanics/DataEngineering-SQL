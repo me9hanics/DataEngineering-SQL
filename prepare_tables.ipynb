{
 "cells": [
  {
   "cell_type": "markdown",
   "metadata": {},
   "source": [
    "# Load external data and index it"
   ]
  },
  {
   "cell_type": "markdown",
   "metadata": {},
   "source": [
    "All of the files were collected from (my) [PainterPalette](https://github.com/me9hanics/PainterPalette) and [e-flux web scraping](https://github.com/me9hanics/e-flux_scraping_coexhibition_networks) projects."
   ]
  },
  {
   "cell_type": "markdown",
   "metadata": {},
   "source": [
    "### Load artists from PainterPalette"
   ]
  },
  {
   "cell_type": "code",
   "execution_count": 1,
   "metadata": {},
   "outputs": [],
   "source": [
    "import pandas as pd\n",
    "\n",
    "artists = pd.read_csv(\"https://raw.githubusercontent.com/me9hanics/PainterPalette/main/datasets/artists.csv\")\n",
    "artists.to_csv(\"datasets/artists_indexed.csv\", index=True, index_label=\"id\")\n",
    "#artists.to_csv(\"datasets/artists_dollar_separator.csv\", index=True, sep=\"$\", index_label=\"id\") # The \"$\" character does not appear in the dataset, therefore it is safe (but ugly) to use as a separator"
   ]
  },
  {
   "cell_type": "markdown",
   "metadata": {},
   "source": [
    "### Load paintings: WikiArt and Art500k"
   ]
  },
  {
   "cell_type": "code",
   "execution_count": 2,
   "metadata": {},
   "outputs": [],
   "source": [
    "wiki_paintings = pd.read_csv(\"https://raw.githubusercontent.com/me9hanics/PainterPalette/main/datasets/wikiart_paintings_refined.csv\")\n",
    "wiki_paintings.to_csv(\"datasets/paintings_wikiart_indexed.csv\", index=True, index_label=\"id\")\n",
    "\n",
    "art500k_paintings = pd.read_csv(\"https://raw.githubusercontent.com/me9hanics/PainterPalette/main/datasets/art500k_paintings_cleaned.csv\", low_memory=False)\n",
    "art500k_paintings.to_csv(\"datasets/paintings_art500k_indexed.csv\", index=True, index_label=\"id\")"
   ]
  }
 ],
 "metadata": {
  "kernelspec": {
   "display_name": "3.12.0",
   "language": "python",
   "name": "python3"
  },
  "language_info": {
   "codemirror_mode": {
    "name": "ipython",
    "version": 3
   },
   "file_extension": ".py",
   "mimetype": "text/x-python",
   "name": "python",
   "nbconvert_exporter": "python",
   "pygments_lexer": "ipython3",
   "version": "3.12.0"
  }
 },
 "nbformat": 4,
 "nbformat_minor": 2
}
